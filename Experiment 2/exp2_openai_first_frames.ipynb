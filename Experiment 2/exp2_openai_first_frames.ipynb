{
  "cells": [
    {
      "cell_type": "markdown",
      "source": [
        "## OpenAI Vision 4 Preview Image -> Text Descriptions of First Frames"
      ],
      "metadata": {
        "id": "uYuXVRrOvpdh"
      }
    },
    {
      "cell_type": "code",
      "source": [
        "!pip install opencv-python\n",
        "!pip install openai\n",
        "!pip install pytube"
      ],
      "metadata": {
        "id": "upGEHAqfVpDi"
      },
      "execution_count": null,
      "outputs": []
    },
    {
      "cell_type": "code",
      "execution_count": null,
      "metadata": {
        "id": "xt199oHjVmo6"
      },
      "outputs": [],
      "source": [
        "from IPython.display import display, Image, Audio\n",
        "\n",
        "import cv2\n",
        "import base64\n",
        "import time\n",
        "import os\n",
        "import requests\n",
        "\n",
        "from openai import OpenAI\n",
        "client = OpenAI(api_key=\"\")"
      ]
    },
    {
      "cell_type": "code",
      "source": [
        "from google.colab import drive\n",
        "drive.mount('/content/drive', force_remount=True)"
      ],
      "metadata": {
        "id": "SG_kWFvsq1uy"
      },
      "execution_count": null,
      "outputs": []
    },
    {
      "cell_type": "code",
      "source": [
        "import os\n",
        "import base64\n",
        "import pandas as pd\n",
        "import numpy as np\n",
        "import time\n",
        "import requests\n",
        "import json\n",
        "from openai import BadRequestError, RateLimitError\n",
        "\n",
        "# Function to convert image to base64\n",
        "def encode_image(image_path):\n",
        "  with open(image_path, \"rb\") as image_file:\n",
        "    return base64.b64encode(image_file.read()).decode('utf-8')\n",
        "\n",
        "# Directory containing images\n",
        "image_dir = \"/content/drive/My Drive/236/test_first_frames/\""
      ],
      "metadata": {
        "id": "LEMt5udrg0D8"
      },
      "execution_count": null,
      "outputs": []
    },
    {
      "cell_type": "code",
      "source": [
        "# Load train.csv into a DataFrame\n",
        "train_df = pd.read_csv(\"/content/drive/My Drive/236/train.csv\")\n",
        "train_df[\"OpenAICaption\"] = np.nan"
      ],
      "metadata": {
        "id": "BHnpuW-YgzeF"
      },
      "execution_count": null,
      "outputs": []
    },
    {
      "cell_type": "code",
      "source": [
        "# Load test.csv, at inference time\n",
        "test_df = pd.read_csv(\"/content/drive/My Drive/236/test.csv\")\n",
        "test_df[\"OpenAICaption\"] = np.nan"
      ],
      "metadata": {
        "id": "7qL2cGMSzxxi"
      },
      "execution_count": null,
      "outputs": []
    },
    {
      "cell_type": "markdown",
      "source": [
        "### Batch calls"
      ],
      "metadata": {
        "id": "xz78bg27KNeH"
      }
    },
    {
      "cell_type": "code",
      "source": [
        "# TRAIN SET\n",
        "\n",
        "id_set = set(train_df['Id'].values)\n",
        "progress = 0\n",
        "batch_size = 10\n",
        "batch = []\n",
        "\n",
        "for filename in os.listdir(image_dir):\n",
        "    if filename.endswith(\".jpg\"):\n",
        "        identifier = filename.split(\"_\", 1)[1][:-4]  # Removes the \".jpg\" at the end\n",
        "\n",
        "        if identifier in id_set and not pd.isna(train_df.loc[train_df['Id'] == identifier, 'OpenAICaption'].iloc[0]):\n",
        "            continue\n",
        "\n",
        "        base64_image = encode_image(image_dir + filename)\n",
        "\n",
        "        # Append to the batch\n",
        "        batch.append({\n",
        "            \"image\": base64_image,\n",
        "            \"identifier\": identifier\n",
        "        })\n",
        "\n",
        "\n",
        "        if len(batch) == batch_size:\n",
        "            message = {\n",
        "                \"role\": \"user\",\n",
        "                \"content\": [\n",
        "                    {\n",
        "                        \"type\": \"text\",\n",
        "                        \"text\": \"Each image is the first frame of a YouTube video. Generate an around 15-word description for each image that would be useful for creating a good thumbnail image. List each description on a new line without numbering. If you are unable to provide a description, return 'no description available'\",\n",
        "                    }\n",
        "                ]\n",
        "            }\n",
        "\n",
        "            for item in batch:\n",
        "                batch_image = {\n",
        "                            \"type\": \"image_url\",\n",
        "                            \"image_url\": {\n",
        "                                \"url\": f\"data:image/jpeg;base64,{item['image']}\"\n",
        "                            }\n",
        "                        }\n",
        "                message[\"content\"].append(batch_image)\n",
        "\n",
        "            params = {\n",
        "                \"model\": \"gpt-4-vision-preview\",\n",
        "                \"messages\": [message],\n",
        "                \"max_tokens\": 4000\n",
        "            }\n",
        "\n",
        "            try:\n",
        "              result = client.chat.completions.create(**params)\n",
        "              result_list = result.choices[0].message.content.split(\"\\n\")\n",
        "\n",
        "              for i in range(batch_size):\n",
        "                description = result_list[i]\n",
        "                identifier = batch[i][\"identifier\"]\n",
        "                train_df.loc[train_df['Id'] == identifier, 'OpenAICaption'] = description\n",
        "                print(f\"{identifier}: {description}\")\n",
        "\n",
        "              progress += 10\n",
        "              print(progress)\n",
        "\n",
        "              train_df.to_csv(\"/content/drive/My Drive/train_images_exp2_openai.csv\", index=False)\n",
        "              time.sleep(30)\n",
        "\n",
        "            except (RateLimitError) as e:\n",
        "                print(f\"Error: {e}, waiting...\")\n",
        "                time.sleep(90)\n",
        "            except (BadRequestError) as e:\n",
        "                print(f\"Error: {e}, skipping batch.\")\n",
        "                batch = []\n",
        "                continue\n",
        "            except Exception as e:\n",
        "                print(f\"Unexpected error: {e}, skipping batch.\")\n",
        "                batch = []\n",
        "                continue\n",
        "\n",
        "            # Reset the batch\n",
        "            batch = []\n",
        "\n",
        "# Save the updated DataFrame back to CSV\n",
        "train_df.to_csv(\"/content/drive/My Drive/train_images_exp2_openai.csv\", index=False)\n"
      ],
      "metadata": {
        "id": "mIg0TQlKbqAf"
      },
      "execution_count": null,
      "outputs": []
    },
    {
      "cell_type": "code",
      "source": [
        "#  TEST SET\n",
        "\n",
        "id_set = set(test_df['Id'].values)\n",
        "progress = 0\n",
        "batch_size = 10\n",
        "batch = []\n",
        "\n",
        "for filename in os.listdir(image_dir):\n",
        "    if filename.endswith(\".jpg\"):\n",
        "        identifier = filename.split(\"_\", 1)[1][:-4]  # Removes the \".jpg\" at the end\n",
        "\n",
        "        if identifier in id_set and not pd.isna(test_df.loc[test_df['Id'] == identifier, 'OpenAICaption'].iloc[0]):\n",
        "            continue\n",
        "\n",
        "        base64_image = encode_image(image_dir + filename)\n",
        "\n",
        "        # Append to the batch\n",
        "        batch.append({\n",
        "            \"image\": base64_image,\n",
        "            \"identifier\": identifier\n",
        "        })\n",
        "\n",
        "\n",
        "        if len(batch) == batch_size:\n",
        "            message = {\n",
        "                \"role\": \"user\",\n",
        "                \"content\": [\n",
        "                    {\n",
        "                        \"type\": \"text\",\n",
        "                        \"text\": \"Each image is the first frame of a YouTube video. Generate an around 15-word description for each image that would be useful for creating a good thumbnail image. List each description on a new line without numbering. If you are unable to provide a description, return 'no description available'\",\n",
        "                    }\n",
        "                ]\n",
        "            }\n",
        "\n",
        "            for item in batch:\n",
        "                batch_image = {\n",
        "                            \"type\": \"image_url\",\n",
        "                            \"image_url\": {\n",
        "                                \"url\": f\"data:image/jpeg;base64,{item['image']}\"\n",
        "                            }\n",
        "                        }\n",
        "                message[\"content\"].append(batch_image)\n",
        "\n",
        "            params = {\n",
        "                \"model\": \"gpt-4-vision-preview\",\n",
        "                \"messages\": [message],\n",
        "                \"max_tokens\": 4000\n",
        "            }\n",
        "\n",
        "            try:\n",
        "              result = client.chat.completions.create(**params)\n",
        "              result_list = result.choices[0].message.content.split(\"\\n\")\n",
        "\n",
        "              for i in range(batch_size):\n",
        "                description = result_list[i]\n",
        "                identifier = batch[i][\"identifier\"]\n",
        "                test_df.loc[test_df['Id'] == identifier, 'OpenAICaption'] = description\n",
        "                print(f\"{identifier}: {description}\")\n",
        "\n",
        "              progress += 10\n",
        "              print(progress)\n",
        "\n",
        "              test_df.to_csv(\"/content/drive/My Drive/test_images_exp2_openai.csv\", index=False)\n",
        "              time.sleep(30)\n",
        "\n",
        "            except (RateLimitError) as e:\n",
        "                print(f\"Error: {e}, waiting...\")\n",
        "                time.sleep(90)\n",
        "            except (BadRequestError) as e:\n",
        "                print(f\"Error: {e}, skipping batch.\")\n",
        "                batch = []\n",
        "                continue\n",
        "            except Exception as e:\n",
        "                print(f\"Unexpected error: {e}, skipping batch.\")\n",
        "                batch = []\n",
        "                continue\n",
        "\n",
        "            # Reset the batch\n",
        "            batch = []\n",
        "\n",
        "# Save the updated DataFrame back to CSV\n",
        "test_df.to_csv(\"/content/drive/My Drive/test_images_exp2_openai.csv\", index=False)\n"
      ],
      "metadata": {
        "id": "oYSOxSek0BhK"
      },
      "execution_count": null,
      "outputs": []
    },
    {
      "cell_type": "markdown",
      "source": [
        "### Individual calls"
      ],
      "metadata": {
        "id": "7rGXlh7GKJga"
      }
    },
    {
      "cell_type": "code",
      "source": [
        "import os\n",
        "import base64\n",
        "import pandas as pd\n",
        "import time\n",
        "from openai import BadRequestError, RateLimitError\n",
        "\n",
        "# Function to convert image to base64\n",
        "def image_to_base64(image_path):\n",
        "    with open(image_path, \"rb\") as image_file:\n",
        "        return base64.b64encode(image_file.read()).decode(\"utf-8\")\n",
        "\n",
        "# Directory containing images\n",
        "image_dir = \"/content/drive/My Drive/236/train_first_frames\"\n",
        "train_df = pd.read_csv(\"/content/drive/My Drive/train_images_exp2_openai.csv\")\n",
        "\n",
        "id_set = set(train_df['Id'].values)\n",
        "progress = 0\n",
        "\n",
        "for filename in os.listdir(image_dir):\n",
        "    if filename.endswith(\".jpg\"):\n",
        "        # Extract the identifier from the filename\n",
        "        identifier = filename.split(\"_\", 1)[1][:-4]  # Removes the \".jpg\" at the\n",
        "\n",
        "        if identifier in id_set and not pd.isna(train_df.loc[train_df['Id'] == identifier, 'OpenAICaption'].iloc[0]):\n",
        "            continue\n",
        "\n",
        "        image_path = os.path.join(image_dir, filename)\n",
        "        base64_image = image_to_base64(image_path)\n",
        "\n",
        "        # Create the prompt message\n",
        "        prompt_message = {\n",
        "            \"role\": \"user\",\n",
        "            \"content\": [\n",
        "                \"This is the first frame from a YouTube video. Generate a less than 20 word description of the video that would be useful for creating a good thumbnail image.\",\n",
        "                {\"image\": base64_image, \"resize\": 256}\n",
        "            ],\n",
        "        }\n",
        "\n",
        "        # Prepare parameters for the API call\n",
        "        params = {\n",
        "            \"model\": \"gpt-4-vision-preview\",\n",
        "            \"messages\": [prompt_message],\n",
        "            \"max_tokens\": 200\n",
        "        }\n",
        "\n",
        "        try:\n",
        "            result = client.chat.completions.create(**params)\n",
        "            description = result.choices[0].message.content\n",
        "\n",
        "            if \"I'm sorry\" in description or \"I cannot\" in description:\n",
        "                train_df.loc[train_df['Id'] == identifier, 'OpenAICaption'] = \"no description available\"\n",
        "            else:\n",
        "                train_df.loc[train_df['Id'] == identifier, 'OpenAICaption'] = description\n",
        "\n",
        "            progress += 1\n",
        "            print(progress)\n",
        "\n",
        "            if progress % 10 == 0:  # Save every 10 iterations\n",
        "                train_df.to_csv(\"/content/drive/My Drive/train_images_exp2_openai.csv\", index=False)\n",
        "\n",
        "            time.sleep(30)\n",
        "\n",
        "        except (RateLimitError) as e:\n",
        "            print(f\"Error: {e}, waiting...\")\n",
        "            time.sleep(30)\n",
        "        except (BadRequestError) as e:\n",
        "            print(f\"Error: {e}, skipping image.\")\n",
        "            train_df.loc[train_df['Id'] == identifier, 'OpenAICaption'] = \"no description available\"\n",
        "            continue\n",
        "        except Exception as e:\n",
        "            print(f\"Unexpected error: {e}, skipping image.\")\n",
        "            continue\n",
        "\n",
        "# Save the updated DataFrame back to CSV\n",
        "train_df.to_csv(\"/content/drive/My Drive/train_images_exp2_openai.csv\", index=False)\n"
      ],
      "metadata": {
        "id": "jYinHLhtpZ32"
      },
      "execution_count": null,
      "outputs": []
    },
    {
      "cell_type": "markdown",
      "source": [
        "### See Results"
      ],
      "metadata": {
        "id": "LO4iO66ZKSID"
      }
    },
    {
      "cell_type": "code",
      "source": [
        "# Save the updated DataFrame back to CSV\n",
        "train_df.to_csv(\"/content/drive/My Drive/train_images_exp2_openai.csv\", index=False)"
      ],
      "metadata": {
        "id": "yNFu843SEJ7R"
      },
      "execution_count": null,
      "outputs": []
    },
    {
      "cell_type": "code",
      "source": [
        "num = 0\n",
        "for index, row in train_df.iterrows():\n",
        "    if pd.notna(row['OpenAICaption']) and row['OpenAICaption'] != '':\n",
        "        print(f\"Row {index}: {row['OpenAICaption']}\")\n",
        "        num += 1\n",
        "print (len(train_df))"
      ],
      "metadata": {
        "id": "ul0Woovb3Vsf"
      },
      "execution_count": null,
      "outputs": []
    },
    {
      "cell_type": "markdown",
      "source": [
        "## Other Misc Code: Process a single video from link -> description"
      ],
      "metadata": {
        "id": "us27MJoTvtoS"
      }
    },
    {
      "cell_type": "markdown",
      "source": [
        "### 0. Process YouTube Videos"
      ],
      "metadata": {
        "id": "QcM_L1eEYjeE"
      }
    },
    {
      "cell_type": "code",
      "source": [
        "from pytube import YouTube\n",
        "import os\n",
        "\n",
        "# sample YouTube video URL\n",
        "youtube_url = 'https://www.youtube.com/watch?v=UNo0TG9LwwI'\n",
        "\n",
        "# Download video\n",
        "yt = YouTube(youtube_url)\n",
        "stream = yt.streams.filter(progressive=True, file_extension='mp4').order_by('resolution').desc().first()\n",
        "if not os.path.exists('videos'):\n",
        "    os.makedirs('videos')\n",
        "download_path = stream.download('videos')\n",
        "\n",
        "print(f\"Downloaded video to {download_path}\")"
      ],
      "metadata": {
        "id": "Pd8_Lg0GYrMc"
      },
      "execution_count": null,
      "outputs": []
    },
    {
      "cell_type": "code",
      "execution_count": null,
      "metadata": {
        "id": "k9S0Q6BOVmo8"
      },
      "outputs": [],
      "source": [
        "import cv2\n",
        "import base64\n",
        "\n",
        "video = cv2.VideoCapture(download_path)\n",
        "\n",
        "# Get the total number of frames in the video\n",
        "total_frames = int(video.get(cv2.CAP_PROP_FRAME_COUNT))\n",
        "\n",
        "# Calculate the interval for sampling frames\n",
        "interval = total_frames // 100\n",
        "\n",
        "base64Frames = []\n",
        "current_frame = 0\n",
        "\n",
        "while video.isOpened():\n",
        "    # Set the position of the next frame to be read\n",
        "    video.set(cv2.CAP_PROP_POS_FRAMES, current_frame)\n",
        "\n",
        "    success, frame = video.read()\n",
        "    if not success:\n",
        "        break\n",
        "\n",
        "    _, buffer = cv2.imencode(\".jpg\", frame)\n",
        "    base64Frames.append(base64.b64encode(buffer).decode(\"utf-8\"))\n",
        "\n",
        "    # Move to the next interval\n",
        "    current_frame += interval\n",
        "\n",
        "    # Stop if we've reached the end of the video\n",
        "    if current_frame >= total_frames:\n",
        "        break\n",
        "\n",
        "video.release()\n",
        "print(len(base64Frames), \"frames read.\")"
      ]
    },
    {
      "cell_type": "code",
      "execution_count": null,
      "metadata": {
        "id": "VvrvpzXJVmo_"
      },
      "outputs": [],
      "source": [
        "PROMPT_MESSAGES = [\n",
        "    {\n",
        "        \"role\": \"user\",\n",
        "        \"content\": [\n",
        "            \"These are frames from a video that I want to create a representative thumbnail image for. Generate a short description of the video that would be important for creating a good thumbnail image.\",\n",
        "            *map(lambda x: {\"image\": x, \"resize\": 768}, base64Frames[0::50]),\n",
        "        ],\n",
        "    },\n",
        "]\n",
        "params = {\n",
        "    \"model\": \"gpt-4-vision-preview\",\n",
        "    \"messages\": PROMPT_MESSAGES,\n",
        "    \"max_tokens\": 200,\n",
        "}\n",
        "\n",
        "\n",
        "result = client.chat.completions.create(**params)\n",
        "print(result.choices[0].message.content)\n"
      ]
    }
  ],
  "metadata": {
    "kernelspec": {
      "display_name": "Python 3",
      "name": "python3"
    },
    "language_info": {
      "codemirror_mode": {
        "name": "ipython",
        "version": 3
      },
      "file_extension": ".py",
      "mimetype": "text/x-python",
      "name": "python",
      "nbconvert_exporter": "python",
      "pygments_lexer": "ipython3",
      "version": "3.9.16"
    },
    "colab": {
      "provenance": []
    }
  },
  "nbformat": 4,
  "nbformat_minor": 0
}